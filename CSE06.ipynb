{
 "cells": [
  {
   "cell_type": "code",
   "execution_count": 3,
   "metadata": {},
   "outputs": [
    {
     "name": "stdout",
     "output_type": "stream",
     "text": [
      "1 2 3 4 6 12 "
     ]
    }
   ],
   "source": [
    "def factorslist (n):\n",
    "    for i in range(1,n+1):\n",
    "        if n%i==0:\n",
    "            print(i,end=\" \")\n",
    "    return \n",
    "factorslist(12)"
   ]
  },
  {
   "cell_type": "code",
   "execution_count": 5,
   "metadata": {},
   "outputs": [
    {
     "data": {
      "text/plain": [
       "True"
      ]
     },
     "execution_count": 5,
     "metadata": {},
     "output_type": "execute_result"
    }
   ],
   "source": [
    "def isprime(n):\n",
    "    flag = True\n",
    "    for i in range(2,n//2+1):\n",
    "        if n % i == 0:\n",
    "            flag = False\n",
    "        return flag \n",
    "isprime(11)"
   ]
  },
  {
   "cell_type": "code",
   "execution_count": 17,
   "metadata": {},
   "outputs": [
    {
     "data": {
      "text/plain": [
       "4"
      ]
     },
     "execution_count": 17,
     "metadata": {},
     "output_type": "execute_result"
    }
   ],
   "source": [
    "def primecount(n):\n",
    "    cnt=0\n",
    "    for a in range(2,n+1):\n",
    "        k=0\n",
    "        for i in range(2,a//2+1):\n",
    "            if a%i==0:\n",
    "                k=k+1\n",
    "        if (k<=0):\n",
    "            cnt=cnt+1\n",
    "    return cnt\n",
    "primecount(10)"
   ]
  },
  {
   "cell_type": "code",
   "execution_count": 27,
   "metadata": {},
   "outputs": [
    {
     "name": "stdout",
     "output_type": "stream",
     "text": [
      "yes\n",
      "no\n"
     ]
    }
   ],
   "source": [
    "def factorial(n):\n",
    "    fact = 1\n",
    "    for i in range(2,n+1):\n",
    "        fact *=i\n",
    "    return fact \n",
    "def digitfactsum(n):\n",
    "    sum =0\n",
    "    buffer =n\n",
    "    while n!=0:\n",
    "        r =n%10\n",
    "        sum+=factorial(r)\n",
    "        n=n//10\n",
    "    if sum==buffer:\n",
    "        return \"yes\"\n",
    "    else:\n",
    "        return \"no\"\n",
    "    return\n",
    "print(digitfactsum(145))\n",
    "print(digitfactsum(123))"
   ]
  },
  {
   "cell_type": "code",
   "execution_count": 28,
   "metadata": {},
   "outputs": [
    {
     "data": {
      "text/plain": [
       "9"
      ]
     },
     "execution_count": 28,
     "metadata": {},
     "output_type": "execute_result"
    }
   ],
   "source": [
    "def ispalindrome(n):\n",
    "    rev=0\n",
    "    buffer=n\n",
    "    while n!=0:\n",
    "        r=n%10\n",
    "        rev=rev*10+r\n",
    "        n=n//10\n",
    "    if rev ==buffer:\n",
    "        return True\n",
    "    else:\n",
    "        return False\n",
    "    return\n",
    "def countpalindrome(lb,ub):\n",
    "    cnt=0\n",
    "    while lb!=ub:\n",
    "        if ispalindrome(lb)==True:\n",
    "            cnt=cnt+1\n",
    "        lb=lb+1\n",
    "    return cnt\n",
    "countpalindrome(1,10)"
   ]
  },
  {
   "cell_type": "code",
   "execution_count": null,
   "metadata": {},
   "outputs": [],
   "source": []
  }
 ],
 "metadata": {
  "kernelspec": {
   "display_name": "Python 3",
   "language": "python",
   "name": "python3"
  },
  "language_info": {
   "codemirror_mode": {
    "name": "ipython",
    "version": 3
   },
   "file_extension": ".py",
   "mimetype": "text/x-python",
   "name": "python",
   "nbconvert_exporter": "python",
   "pygments_lexer": "ipython3",
   "version": "3.7.3"
  }
 },
 "nbformat": 4,
 "nbformat_minor": 2
}
