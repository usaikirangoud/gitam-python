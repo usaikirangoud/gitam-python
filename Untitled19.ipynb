{
 "cells": [
  {
   "cell_type": "code",
   "execution_count": 8,
   "metadata": {},
   "outputs": [
    {
     "name": "stdout",
     "output_type": "stream",
     "text": [
      "enter 1st number 2\n",
      "enter 2nd number3\n",
      " enter 3st number4\n",
      "c is greater\n"
     ]
    }
   ],
   "source": [
    "a,b,c=int(input(\"enter 1st number \")),int(input(\"enter 2nd number\")),int(input(\" enter 3st number\"))\n",
    "if((a>b and a>c)):\n",
    "    print(\"a is greater\")\n",
    "elif((b>c) and (b>a)):\n",
    "    print(\"b is greater\")\n",
    "elif((c>a) and (c>b)):\n",
    "    print(\"c is greater\")\n",
    "            "
   ]
  },
  {
   "cell_type": "code",
   "execution_count": null,
   "metadata": {},
   "outputs": [],
   "source": []
  },
  {
   "cell_type": "code",
   "execution_count": 9,
   "metadata": {},
   "outputs": [
    {
     "name": "stdout",
     "output_type": "stream",
     "text": [
      "even a no3\n",
      " number is odd\n"
     ]
    }
   ],
   "source": [
    "a=int(input(\"even a no\"))\n",
    "if(a%2==0):\n",
    "    print(\" number is even\")\n",
    "else:\n",
    "    print(\" number is odd\")"
   ]
  },
  {
   "cell_type": "code",
   "execution_count": 10,
   "metadata": {},
   "outputs": [
    {
     "name": "stdout",
     "output_type": "stream",
     "text": [
      "enter a year2001\n",
      "leap year\n"
     ]
    }
   ],
   "source": [
    "y=int(input(\"enter a year\"))\n",
    "if((y%400) or (y%100!=0)and(y%4==0)):\n",
    "    print(\"leap year\")\n",
    "else:\n",
    "    printf(\"not leap year\")\n",
    "    "
   ]
  },
  {
   "cell_type": "code",
   "execution_count": 11,
   "metadata": {},
   "outputs": [
    {
     "name": "stdout",
     "output_type": "stream",
     "text": [
      "gitam\n"
     ]
    }
   ],
   "source": [
    "print(\"gitam\")"
   ]
  },
  {
   "cell_type": "code",
   "execution_count": 12,
   "metadata": {},
   "outputs": [
    {
     "name": "stdout",
     "output_type": "stream",
     "text": [
      "gitam\n",
      "gitam\n",
      "gitam\n",
      "gitam\n",
      "gitam\n"
     ]
    }
   ],
   "source": [
    "x=0\n",
    "while x<5:\n",
    "    print(\"gitam\")\n",
    "    x=x+1\n",
    "    "
   ]
  },
  {
   "cell_type": "code",
   "execution_count": 15,
   "metadata": {},
   "outputs": [
    {
     "name": "stdout",
     "output_type": "stream",
     "text": [
      " enter a number6\n",
      "123456"
     ]
    }
   ],
   "source": [
    "n=int(input(\" enter a number\"))\n",
    "x=1\n",
    "while x<=n:\n",
    "    print(x,end=\"\")\n",
    "    x=x+1"
   ]
  },
  {
   "cell_type": "code",
   "execution_count": null,
   "metadata": {},
   "outputs": [],
   "source": []
  }
 ],
 "metadata": {
  "kernelspec": {
   "display_name": "Python 3",
   "language": "python",
   "name": "python3"
  },
  "language_info": {
   "codemirror_mode": {
    "name": "ipython",
    "version": 3
   },
   "file_extension": ".py",
   "mimetype": "text/x-python",
   "name": "python",
   "nbconvert_exporter": "python",
   "pygments_lexer": "ipython3",
   "version": "3.7.3"
  }
 },
 "nbformat": 4,
 "nbformat_minor": 2
}
