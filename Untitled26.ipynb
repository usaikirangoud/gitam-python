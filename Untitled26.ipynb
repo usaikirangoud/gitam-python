{
 "cells": [
  {
   "cell_type": "code",
   "execution_count": 4,
   "metadata": {},
   "outputs": [
    {
     "name": "stdout",
     "output_type": "stream",
     "text": [
      "file is created and data is written\n"
     ]
    }
   ],
   "source": [
    "#function to create a FILE AND WRITE to the file \n",
    "def createfile(filename):\n",
    "    f=open(filename,'w')\n",
    "    for i in range(10):\n",
    "        f.write('this is %f line '%i)\n",
    "    print(\"file is created and data is written\")\n",
    "    return\n",
    "createfile('file.txt')"
   ]
  },
  {
   "cell_type": "markdown",
   "metadata": {},
   "source": [
    "### standard libraries\n",
    "* File 1/10 \n",
    "* Regular expression \n",
    "* Date time \n",
    "* Math(numerical and mathematical)\n"
   ]
  },
  {
   "cell_type": "markdown",
   "metadata": {},
   "source": [
    "### file handling in python\n",
    "* file:-document contaning information resides on the permanent storage .<br>\n",
    "* different types of files:-txt,doc,pdf,csvand etc  <br>\n",
    "* inoput and output <br>\n",
    "* output-file"
   ]
  },
  {
   "cell_type": "markdown",
   "metadata": {},
   "source": [
    "### modules of the file i/o\n",
    "* 'w' -this mode is used to file writing <br>\n",
    " - if files not present it creates the files and write the data in to it <br>"
   ]
  },
  {
   "cell_type": "code",
   "execution_count": 9,
   "metadata": {},
   "outputs": [
    {
     "name": "stdout",
     "output_type": "stream",
     "text": [
      "File is created and successfully data has written\n"
     ]
    }
   ],
   "source": [
    "def appenddata(filename):\n",
    "    f = open(filename,'a')\n",
    "    for i in range(10):\n",
    "        f.write(\"This is %d Line\\n\" % i)\n",
    "    print(\"File is created and successfully data has written\")\n",
    "    return\n",
    "appenddata('file2.txt')"
   ]
  },
  {
   "cell_type": "code",
   "execution_count": null,
   "metadata": {},
   "outputs": [],
   "source": [
    "# Fuction to read the file\n",
    "def fileOperations(filename,mode):\n",
    "    with open(filename,mode) as f:\n",
    "        if f.mode == 'r':\n",
    "   \n",
    "\n",
    "data = f.read()\n",
    "           print(data)\n",
    "        elif f.mode == 'a':\n",
    "            f.write('Data to the file')\n",
    "            print('The data successfully written')\n",
    "    f.close()\n",
    "    return\n",
    "filename = input('Enter the file name')\n",
    "mode = input('Enter ther mode of the file')\n",
    "fileOperations(filename,mode)"
   ]
  },
  {
   "cell_type": "code",
   "execution_count": null,
   "metadata": {},
   "outputs": [],
   "source": [
    "# Data Analysis\n",
    "# Word Count Program\n",
    "def wordCount(filename,word):\n",
    "  with open(filename,'r') as f:\n",
    "      if f.mode =='r':\n",
    "          x = f.read()\n",
    "          li = x.split()\n",
    "  cnt = li.count(word)\n",
    "  return cnt\n",
    "filename = input('Enter the file name : ')\n",
    "word = input('Enter the word : ')\n",
    "wordCount(filename,word)\n"
   ]
  },
  {
   "cell_type": "code",
   "execution_count": 1,
   "metadata": {},
   "outputs": [
    {
     "name": "stdout",
     "output_type": "stream",
     "text": [
      "enter the filename :file2.txt\n"
     ]
    },
    {
     "data": {
      "text/plain": [
       "465"
      ]
     },
     "execution_count": 1,
     "metadata": {},
     "output_type": "execute_result"
    }
   ],
   "source": [
    "# character count from the given file\n",
    "def charcount(filename):\n",
    "   with open(filename,'r') as f:\n",
    "       if f.mode == 'r':\n",
    "           x= f.read()\n",
    "           li = list(x)\n",
    "   return len(li)\n",
    "filename = input('enter the filename :')\n",
    "charcount(filename)\n"
   ]
  },
  {
   "cell_type": "code",
   "execution_count": 2,
   "metadata": {},
   "outputs": [
    {
     "name": "stdout",
     "output_type": "stream",
     "text": [
      "enterthe filename:file2.txt\n"
     ]
    },
    {
     "data": {
      "text/plain": [
       "465"
      ]
     },
     "execution_count": 2,
     "metadata": {},
     "output_type": "execute_result"
    }
   ],
   "source": [
    "def charcount(filename):\n",
    "    with open(filename,'r') as f:\n",
    "        if f.mode=='r':\n",
    "            x=f.read()\n",
    "            li=list(x)\n",
    "    return len(li)\n",
    "filename=input('enterthe filename:')\n",
    "charcount(filename)\n",
    "   \n"
   ]
  },
  {
   "cell_type": "code",
   "execution_count": null,
   "metadata": {},
   "outputs": [],
   "source": [
    "def countoflines(filename):\n",
    "   with open(filename,'r') as f:\n",
    "       if f.mode=='r':\n",
    "           x=f.read()\n",
    "           li=x.split(\"\\n\")\n",
    "   return len(li)\n",
    "filename=input('Enter the filename:')\n",
    "countoflines(filename)"
   ]
  },
  {
   "cell_type": "code",
   "execution_count": 3,
   "metadata": {},
   "outputs": [
    {
     "name": "stdout",
     "output_type": "stream",
     "text": [
      "enter filename:file2.txt\n"
     ]
    },
    {
     "data": {
      "text/plain": [
       "'upper case = 60,lower case =252'"
      ]
     },
     "execution_count": 3,
     "metadata": {},
     "output_type": "execute_result"
    }
   ],
   "source": [
    "\n",
    "def casecount(filename):\n",
    "    cntupper=0\n",
    "    cntlower=0\n",
    "    with open(filename,'r') as f:\n",
    "        if f.mode =='r':\n",
    "            x = f.read()\n",
    "            li=list(x)\n",
    "    for i in li:\n",
    "        if i.isupper():\n",
    "            cntupper +=1\n",
    "        elif i.islower():\n",
    "            cntlower +=1\n",
    "    output='upper case = {0},lower case ={1}'.format(cntupper,cntlower)\n",
    "    return output\n",
    "filename =input('enter filename:')\n",
    "casecount(filename)"
   ]
  },
  {
   "cell_type": "code",
   "execution_count": null,
   "metadata": {},
   "outputs": [],
   "source": []
  }
 ],
 "metadata": {
  "kernelspec": {
   "display_name": "Python 3",
   "language": "python",
   "name": "python3"
  },
  "language_info": {
   "codemirror_mode": {
    "name": "ipython",
    "version": 3
   },
   "file_extension": ".py",
   "mimetype": "text/x-python",
   "name": "python",
   "nbconvert_exporter": "python",
   "pygments_lexer": "ipython3",
   "version": "3.7.3"
  }
 },
 "nbformat": 4,
 "nbformat_minor": 2
}
